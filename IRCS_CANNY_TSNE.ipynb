{
 "cells": [
  {
   "cell_type": "code",
   "metadata": {
    "collapsed": true,
    "ExecuteTime": {
     "end_time": "2024-08-15T22:00:18.795105Z",
     "start_time": "2024-08-15T22:00:18.776121Z"
    }
   },
   "source": [
    "import pathlib\n",
    "import cv2\n",
    "import numpy as np\n",
    "import matplotlib.pyplot as plt\n",
    "from sklearn.mixture import GaussianMixture\n",
    "from skimage.feature import hog"
   ],
   "outputs": [],
   "execution_count": 129
  },
  {
   "cell_type": "code",
   "metadata": {
    "ExecuteTime": {
     "end_time": "2024-08-15T22:00:18.811156Z",
     "start_time": "2024-08-15T22:00:18.803108Z"
    }
   },
   "source": [
    "# data_dir = pathlib.Path('./output/canny')\n",
    "# data_dir = pathlib.Path('./output/canny_no_circle_det')\n",
    "data_dir = pathlib.Path('./output/no_bg_fix_circle_mask_canny')\n",
    "image_count = len(list(data_dir.glob('*.jpg')))\n",
    "print(image_count)"
   ],
   "outputs": [
    {
     "name": "stdout",
     "output_type": "stream",
     "text": [
      "34\n"
     ]
    }
   ],
   "execution_count": 130
  },
  {
   "cell_type": "code",
   "metadata": {
    "ExecuteTime": {
     "end_time": "2024-08-15T22:00:19.015259Z",
     "start_time": "2024-08-15T22:00:18.951663Z"
    }
   },
   "source": [
    "from sklearn.model_selection import train_test_split\n",
    "\n",
    "rotation_aug = False\n",
    "\n",
    "load_all_images = False\n",
    "\n",
    "# resize_factor = 200\n",
    "# resize_factor = 150\n",
    "# resize_factor = 125\n",
    "# resize_factor = 100\n",
    "resize_factor = 50 # MPA, MP, DMMP\n",
    "# resize_factor = 40\n",
    "# resize_factor = 25\n",
    "# resize_factor = 20\n",
    "# resize_factor = 10\n",
    "# resize_factor = 5\n",
    "\n",
    "# Data selection\n",
    "molecular_imprinting_name = 'DMMP'\n",
    "# molecular_imprinting_name = 'MP'\n",
    "# molecular_imprinting_name = 'MPA'\n",
    "\n",
    "distraction_merge, distraction_merge_to_one, original_merge_to_one = False, False, False\n",
    "# distraction_merge, distraction_merge_to_one, original_merge_to_one = False, True, False\n",
    "# distraction_merge, distraction_merge_to_one, original_merge_to_one = True, False, False\n",
    "# distraction_merge, distraction_merge_to_one, original_merge_to_one = False, False, True\n",
    "# distraction_merge, distraction_merge_to_one, original_merge_to_one = False, True, True\n",
    "# distraction_merge, distraction_merge_to_one, original_merge_to_one = True, False, True\n",
    "\n",
    "x = []\n",
    "y = []\n",
    "resize_x = []\n",
    "for path in data_dir.glob('*.jpg'):\n",
    "    if not load_all_images:\n",
    "        if path.name.split('-')[1] != molecular_imprinting_name and path.name.split('-')[1].split('(')[0] != molecular_imprinting_name:\n",
    "            continue\n",
    "    src = cv2.imread(str(path))\n",
    "    src = cv2.cvtColor(src, cv2.COLOR_BGR2GRAY)\n",
    "    height, width = src.shape[:2]\n",
    "    center = (width / 2, height / 2)\n",
    "    if rotation_aug:\n",
    "        for i in range(3):\n",
    "            rotation_matrix = rotate_matrix = cv2.getRotationMatrix2D(center=center, angle=90 * i, scale=1)\n",
    "            rotated_image = cv2.warpAffine(src=src, M=rotate_matrix, dsize=(width, height))\n",
    "            resize_image = cv2.resize(src=rotated_image, dsize=(int(width / resize_factor), int(height / resize_factor)))\n",
    "            resize_x.append(resize_image)\n",
    "            resize_image = np.reshape(resize_image, (resize_image.shape[0] * resize_image.shape[1]))\n",
    "            x.append(resize_image)\n",
    "            if load_all_images:\n",
    "                label_name = path.name.split('-')[1].split('(')[0] + '-' + path.name.split('-')[2].replace(' ', '')\n",
    "                y.append(label_name)\n",
    "            else:\n",
    "                y.append(path.name.split('-')[2].replace(' ', ''))\n",
    "    else:\n",
    "        resize_image = cv2.resize(src=src, dsize=(int(width / resize_factor), int(height / resize_factor)))\n",
    "        resize_x.append(resize_image)\n",
    "        resize_image = np.reshape(resize_image, (resize_image.shape[0] * resize_image.shape[1]))\n",
    "        x.append(resize_image)\n",
    "        if load_all_images:\n",
    "            label_name = path.name.split('-')[1].split('(')[0] + '-' + path.name.split('-')[2].replace(' ', '')\n",
    "            if label_name.split('-')[0] != label_name.split('-')[1]:\n",
    "                if distraction_merge or distraction_merge_to_one:\n",
    "                    if distraction_merge_to_one:\n",
    "                        label_name = 'distraction'\n",
    "                    else:\n",
    "                        label_name = label_name.split('-')[0] + '-distraction'\n",
    "            elif label_name.split('-')[0] == label_name.split('-')[1]:\n",
    "                if original_merge_to_one :\n",
    "                    label_name = 'original'\n",
    "        else:\n",
    "            if distraction_merge or distraction_merge_to_one:\n",
    "                if path.name.split('-')[2].split('(')[0] != molecular_imprinting_name:\n",
    "                    if distraction_merge_to_one:\n",
    "                        label_name = 'distraction'\n",
    "                    else:\n",
    "                        label_name = path.name.split('-')[1].split('(')[0] + '-distraction'\n",
    "                else:\n",
    "                    label_name = path.name.split('-')[2].replace(' ', '')\n",
    "            else:\n",
    "                label_name = path.name.split('-')[2].replace(' ', '')\n",
    "        y.append(label_name)\n",
    "x = np.array(x)\n",
    "y = np.array(y)\n",
    "resize_x = np.array(resize_x)\n",
    "print('data loaded x=%i' % (len(x)))\n",
    "print('data loaded y=%i' % (len(y)))"
   ],
   "outputs": [
    {
     "name": "stdout",
     "output_type": "stream",
     "text": [
      "data loaded x=10\n",
      "data loaded y=10\n"
     ]
    }
   ],
   "execution_count": 131
  },
  {
   "cell_type": "code",
   "source": [
    "white_mask = np.ones(shape=resize_x[0].shape)\n",
    "print('Granularity=%s' % str(resize_x[0].shape))\n",
    "plt.figure(figsize=(10, 10))\n",
    "plt.imshow(white_mask - resize_x[0], cmap='gray')"
   ],
   "metadata": {
    "collapsed": false,
    "ExecuteTime": {
     "end_time": "2024-08-15T22:00:19.234020Z",
     "start_time": "2024-08-15T22:00:19.045969Z"
    }
   },
   "outputs": [
    {
     "name": "stdout",
     "output_type": "stream",
     "text": [
      "Granularity=(20, 20)\n"
     ]
    },
    {
     "data": {
      "text/plain": [
       "<matplotlib.image.AxesImage at 0x254fc391b50>"
      ]
     },
     "execution_count": 132,
     "metadata": {},
     "output_type": "execute_result"
    },
    {
     "data": {
      "text/plain": [
       "<Figure size 1000x1000 with 1 Axes>"
      ],
      "image/png": "[encoded data removed]"
     },
     "metadata": {},
     "output_type": "display_data"
    }
   ],
   "execution_count": 132
  },
  {
   "cell_type": "code",
   "source": [
    "from sklearn.preprocessing import StandardScaler\n",
    "\n",
    "scaler = StandardScaler()\n",
    "x = scaler.fit_transform(x)"
   ],
   "metadata": {
    "collapsed": false,
    "ExecuteTime": {
     "end_time": "2024-08-15T22:00:19.279931Z",
     "start_time": "2024-08-15T22:00:19.266530Z"
    }
   },
   "outputs": [],
   "execution_count": 133
  },
  {
   "cell_type": "code",
   "metadata": {
    "ExecuteTime": {
     "end_time": "2024-08-15T22:00:19.325677Z",
     "start_time": "2024-08-15T22:00:19.311987Z"
    }
   },
   "source": [
    "# x_train, x_test, y_train, y_test = train_test_split(x, y, test_size=.3, stratify=y, random_state=1)\n",
    "# print(x_train.shape)\n",
    "# print(y_train)\n",
    "# print(y_test)"
   ],
   "outputs": [],
   "execution_count": 134
  },
  {
   "cell_type": "markdown",
   "metadata": {},
   "source": [
    "DATA MINING"
   ]
  },
  {
   "cell_type": "code",
   "metadata": {
    "ExecuteTime": {
     "end_time": "2024-08-15T22:00:19.527012Z",
     "start_time": "2024-08-15T22:00:19.357404Z"
    }
   },
   "source": [
    "use_entire_dataset = True\n",
    "\n",
    "from sklearn.manifold import TSNE\n",
    "\n",
    "from sklearn.preprocessing import StandardScaler\n",
    "perplexity=5\n",
    "pca = TSNE(n_components=3, learning_rate='auto', init='pca', perplexity=perplexity)\n",
    "if use_entire_dataset:\n",
    "    x_train_pca = pca.fit_transform(x)\n",
    "    y_train = y\n",
    "else:\n",
    "    x_train_pca = pca.fit_transform(x_train)\n",
    "    y_train = y_train\n",
    "\n",
    "x_train_pca"
   ],
   "outputs": [
    {
     "data": {
      "text/plain": [
       "array([[  -2.1515176,   35.383354 ,  281.5092   ],\n",
       "       [-120.97621  ,   25.119915 ,   94.50001  ],\n",
       "       [ -96.307076 , -138.87294  ,   -4.450339 ],\n",
       "       [  70.1916   , -235.09085  ,   23.399086 ],\n",
       "       [  75.94104  ,  -95.57549  ,  -61.38202  ],\n",
       "       [ -16.414705 ,  272.72726  ,   60.976498 ],\n",
       "       [ 135.67648  ,   63.067448 ,   16.38823  ],\n",
       "       [ -57.01101  , -110.3304   , -220.30032  ],\n",
       "       [ -40.090935 ,  124.619514 ,  -45.31399  ],\n",
       "       [ -30.582296 ,   -3.2286992,  -87.39163  ]], dtype=float32)"
      ]
     },
     "execution_count": 135,
     "metadata": {},
     "output_type": "execute_result"
    }
   ],
   "execution_count": 135
  },
  {
   "cell_type": "code",
   "metadata": {
    "ExecuteTime": {
     "end_time": "2024-08-15T22:00:19.620034Z",
     "start_time": "2024-08-15T22:00:19.605525Z"
    }
   },
   "source": [
    "import pandas as pd\n",
    "\n",
    "df = pd.DataFrame(x_train_pca, columns=[f\"PC{i + 1}\" for i in range(3)])\n",
    "label_list = []\n",
    "\n",
    "for i in range(len(x_train_pca)):\n",
    "    label_list.append(y_train[i])\n",
    "\n",
    "df['label'] = label_list\n",
    "df"
   ],
   "outputs": [
    {
     "data": {
      "text/plain": [
       "          PC1         PC2         PC3  label\n",
       "0   -2.151518   35.383354  281.509186  NaBF4\n",
       "1 -120.976212   25.119915   94.500008  NaBF4\n",
       "2  -96.307076 -138.872940   -4.450339  NaBF4\n",
       "3   70.191597 -235.090851   23.399086   DMMP\n",
       "4   75.941040  -95.575493  -61.382019   DMMP\n",
       "5  -16.414705  272.727264   60.976498   DMMP\n",
       "6  135.676483   63.067448   16.388229   DMMP\n",
       "7  -57.011009 -110.330399 -220.300323   KF6P\n",
       "8  -40.090935  124.619514  -45.313992   KF6P\n",
       "9  -30.582296   -3.228699  -87.391632   KF6P"
      ],
      "text/html": [
       "<div>\n",
       "<style scoped>\n",
       "    .dataframe tbody tr th:only-of-type {\n",
       "        vertical-align: middle;\n",
       "    }\n",
       "\n",
       "    .dataframe tbody tr th {\n",
       "        vertical-align: top;\n",
       "    }\n",
       "\n",
       "    .dataframe thead th {\n",
       "        text-align: right;\n",
       "    }\n",
       "</style>\n",
       "<table border=\"1\" class=\"dataframe\">\n",
       "  <thead>\n",
       "    <tr style=\"text-align: right;\">\n",
       "      <th></th>\n",
       "      <th>PC1</th>\n",
       "      <th>PC2</th>\n",
       "      <th>PC3</th>\n",
       "      <th>label</th>\n",
       "    </tr>\n",
       "  </thead>\n",
       "  <tbody>\n",
       "    <tr>\n",
       "      <th>0</th>\n",
       "      <td>-2.151518</td>\n",
       "      <td>35.383354</td>\n",
       "      <td>281.509186</td>\n",
       "      <td>NaBF4</td>\n",
       "    </tr>\n",
       "    <tr>\n",
       "      <th>1</th>\n",
       "      <td>-120.976212</td>\n",
       "      <td>25.119915</td>\n",
       "      <td>94.500008</td>\n",
       "      <td>NaBF4</td>\n",
       "    </tr>\n",
       "    <tr>\n",
       "      <th>2</th>\n",
       "      <td>-96.307076</td>\n",
       "      <td>-138.872940</td>\n",
       "      <td>-4.450339</td>\n",
       "      <td>NaBF4</td>\n",
       "    </tr>\n",
       "    <tr>\n",
       "      <th>3</th>\n",
       "      <td>70.191597</td>\n",
       "      <td>-235.090851</td>\n",
       "      <td>23.399086</td>\n",
       "      <td>DMMP</td>\n",
       "    </tr>\n",
       "    <tr>\n",
       "      <th>4</th>\n",
       "      <td>75.941040</td>\n",
       "      <td>-95.575493</td>\n",
       "      <td>-61.382019</td>\n",
       "      <td>DMMP</td>\n",
       "    </tr>\n",
       "    <tr>\n",
       "      <th>5</th>\n",
       "      <td>-16.414705</td>\n",
       "      <td>272.727264</td>\n",
       "      <td>60.976498</td>\n",
       "      <td>DMMP</td>\n",
       "    </tr>\n",
       "    <tr>\n",
       "      <th>6</th>\n",
       "      <td>135.676483</td>\n",
       "      <td>63.067448</td>\n",
       "      <td>16.388229</td>\n",
       "      <td>DMMP</td>\n",
       "    </tr>\n",
       "    <tr>\n",
       "      <th>7</th>\n",
       "      <td>-57.011009</td>\n",
       "      <td>-110.330399</td>\n",
       "      <td>-220.300323</td>\n",
       "      <td>KF6P</td>\n",
       "    </tr>\n",
       "    <tr>\n",
       "      <th>8</th>\n",
       "      <td>-40.090935</td>\n",
       "      <td>124.619514</td>\n",
       "      <td>-45.313992</td>\n",
       "      <td>KF6P</td>\n",
       "    </tr>\n",
       "    <tr>\n",
       "      <th>9</th>\n",
       "      <td>-30.582296</td>\n",
       "      <td>-3.228699</td>\n",
       "      <td>-87.391632</td>\n",
       "      <td>KF6P</td>\n",
       "    </tr>\n",
       "  </tbody>\n",
       "</table>\n",
       "</div>"
      ]
     },
     "execution_count": 136,
     "metadata": {},
     "output_type": "execute_result"
    }
   ],
   "execution_count": 136
  },
  {
   "cell_type": "code",
   "source": [
    "# df = df.append({'PC1': 0.0, 'PC2': 0.0, 'PC3': 0.0, 'label': 'DMMP'}, ignore_index=True)"
   ],
   "metadata": {
    "collapsed": false,
    "ExecuteTime": {
     "end_time": "2024-08-15T22:00:19.712907Z",
     "start_time": "2024-08-15T22:00:19.698820Z"
    }
   },
   "outputs": [],
   "execution_count": 137
  },
  {
   "cell_type": "code",
   "source": [
    "import plotly.io as pio\n",
    "\n",
    "print(pio.templates)\n",
    "pio.templates.default = 'plotly'"
   ],
   "metadata": {
    "collapsed": false,
    "ExecuteTime": {
     "end_time": "2024-08-15T22:00:19.823365Z",
     "start_time": "2024-08-15T22:00:19.795849Z"
    }
   },
   "outputs": [
    {
     "name": "stdout",
     "output_type": "stream",
     "text": [
      "Templates configuration\n",
      "-----------------------\n",
      "    Default template: 'plotly'\n",
      "    Available templates:\n",
      "        ['ggplot2', 'seaborn', 'simple_white', 'plotly',\n",
      "         'plotly_white', 'plotly_dark', 'presentation', 'xgridoff',\n",
      "         'ygridoff', 'gridon', 'none']\n",
      "\n"
     ]
    }
   ],
   "execution_count": 138
  },
  {
   "cell_type": "code",
   "source": [
    "import plotly.express as px\n",
    "\n",
    "fig = px.scatter_3d(df, x='PC1', y='PC2',z='PC3',  color='label', symbol='label', title='Canny TSNE %s Granularity=%s Sperplexity=%s' % (molecular_imprinting_name, str(resize_x[0].shape), str(perplexity)), color_discrete_map={\n",
    "                \"DMMP\": \"red\",\n",
    "                \"NaBF4\": \"green\",\n",
    "                \"KF6P\": \"blue\",\n",
    "                \"MPA\": \"goldenrod\",\n",
    "                \"MP\": \"purple\"},\n",
    "                symbol_sequence= ['circle', 'circle', 'circle', 'circle'],)\n",
    "fig.update_layout(scene=dict(\n",
    "    xaxis=dict(showticklabels=False),\n",
    "    yaxis=dict(showticklabels=False),\n",
    "    zaxis=dict(showticklabels=False)\n",
    "))\n",
    "fig.show()"
   ],
   "metadata": {
    "collapsed": false,
    "ExecuteTime": {
     "end_time": "2024-08-15T22:00:19.934387Z",
     "start_time": "2024-08-15T22:00:19.887874Z"
    }
   },
   "outputs": [
    {
     "data": {
      "application/vnd.plotly.v1+json": {
       "data": [
        {
         "hovertemplate": "label=NaBF4<br>PC1=%{x}<br>PC2=%{y}<br>PC3=%{z}<extra></extra>",
         "legendgroup": "NaBF4",
         "marker": {
          "color": "green",
          "symbol": "circle"
         },
         "mode": "markers",
         "name": "NaBF4",
         "scene": "scene",
         "showlegend": true,
         "x": [
          -2.151517629623413,
          -120.97621154785156,
          -96.30707550048828
         ],
         "y": [
          35.38335418701172,
          25.119915008544922,
          -138.87294006347656
         ],
         "z": [
          281.5091857910156,
          94.50000762939453,
          -4.450338840484619
         ],
         "type": "scatter3d"
        },
        {
         "hovertemplate": "label=DMMP<br>PC1=%{x}<br>PC2=%{y}<br>PC3=%{z}<extra></extra>",
         "legendgroup": "DMMP",
         "marker": {
          "color": "red",
          "symbol": "circle"
         },
         "mode": "markers",
         "name": "DMMP",
         "scene": "scene",
         "showlegend": true,
         "x": [
          70.19159698486328,
          75.9410400390625,
          -16.414705276489258,
          135.67648315429688
         ],
         "y": [
          -235.09085083007812,
          -95.57549285888672,
          272.7272644042969,
          63.067447662353516
         ],
         "z": [
          23.399085998535156,
          -61.38201904296875,
          60.976497650146484,
          16.388229370117188
         ],
         "type": "scatter3d"
        },
        {
         "hovertemplate": "label=KF6P<br>PC1=%{x}<br>PC2=%{y}<br>PC3=%{z}<extra></extra>",
         "legendgroup": "KF6P",
         "marker": {
          "color": "blue",
          "symbol": "circle"
         },
         "mode": "markers",
         "name": "KF6P",
         "scene": "scene",
         "showlegend": true,
         "x": [
          -57.011009216308594,
          -40.09093475341797,
          -30.58229637145996
         ],
         "y": [
          -110.33039855957031,
          124.61951446533203,
          -3.228699207305908
         ],
         "z": [
          -220.30032348632812,
          -45.31399154663086,
          -87.39163208007812
         ],
         "type": "scatter3d"
        }
       ],
       "layout": {
        "template": {
         "data": {
          "histogram2dcontour": [
           {
            "type": "histogram2dcontour",
            "colorbar": {
             "outlinewidth": 0,
             "ticks": ""
            },
            "colorscale": [
             [
              0.0,
              "#0d0887"
             ],
             [
              0.1111111111111111,
              "#46039f"
             ],
             [
              0.2222222222222222,
              "#7201a8"
             ],
             [
              0.3333333333333333,
              "#9c179e"
             ],
             [
              0.4444444444444444,
              "#bd3786"
             ],
             [
              0.5555555555555556,
              "#d8576b"
             ],
             [
              0.6666666666666666,
              "#ed7953"
             ],
             [
              0.7777777777777778,
              "#fb9f3a"
             ],
             [
              0.8888888888888888,
              "#fdca26"
             ],
             [
              1.0,
              "#f0f921"
             ]
            ]
           }
          ],
          "choropleth": [
           {
            "type": "choropleth",
            "colorbar": {
             "outlinewidth": 0,
             "ticks": ""
            }
           }
          ],
          "histogram2d": [
           {
            "type": "histogram2d",
            "colorbar": {
             "outlinewidth": 0,
             "ticks": ""
            },
            "colorscale": [
             [
              0.0,
              "#0d0887"
             ],
             [
              0.1111111111111111,
              "#46039f"
             ],
             [
              0.2222222222222222,
              "#7201a8"
             ],
             [
              0.3333333333333333,
              "#9c179e"
             ],
             [
              0.4444444444444444,
              "#bd3786"
             ],
             [
              0.5555555555555556,
              "#d8576b"
             ],
             [
              0.6666666666666666,
              "#ed7953"
             ],
             [
              0.7777777777777778,
              "#fb9f3a"
             ],
             [
              0.8888888888888888,
              "#fdca26"
             ],
             [
              1.0,
              "#f0f921"
             ]
            ]
           }
          ],
          "heatmap": [
           {
            "type": "heatmap",
            "colorbar": {
             "outlinewidth": 0,
             "ticks": ""
            },
            "colorscale": [
             [
              0.0,
              "#0d0887"
             ],
             [
              0.1111111111111111,
              "#46039f"
             ],
             [
              0.2222222222222222,
              "#7201a8"
             ],
             [
              0.3333333333333333,
              "#9c179e"
             ],
             [
              0.4444444444444444,
              "#bd3786"
             ],
             [
              0.5555555555555556,
              "#d8576b"
             ],
             [
              0.6666666666666666,
              "#ed7953"
             ],
             [
              0.7777777777777778,
              "#fb9f3a"
             ],
             [
              0.8888888888888888,
              "#fdca26"
             ],
             [
              1.0,
              "#f0f921"
             ]
            ]
           }
          ],
          "heatmapgl": [
           {
            "type": "heatmapgl",
            "colorbar": {
             "outlinewidth": 0,
             "ticks": ""
            },
            "colorscale": [
             [
              0.0,
              "#0d0887"
             ],
             [
              0.1111111111111111,
              "#46039f"
             ],
             [
              0.2222222222222222,
              "#7201a8"
             ],
             [
              0.3333333333333333,
              "#9c179e"
             ],
             [
              0.4444444444444444,
              "#bd3786"
             ],
             [
              0.5555555555555556,
              "#d8576b"
             ],
             [
              0.6666666666666666,
              "#ed7953"
             ],
             [
              0.7777777777777778,
              "#fb9f3a"
             ],
             [
              0.8888888888888888,
              "#fdca26"
             ],
             [
              1.0,
              "#f0f921"
             ]
            ]
           }
          ],
          "contourcarpet": [
           {
            "type": "contourcarpet",
            "colorbar": {
             "outlinewidth": 0,
             "ticks": ""
            }
           }
          ],
          "contour": [
           {
            "type": "contour",
            "colorbar": {
             "outlinewidth": 0,
             "ticks": ""
            },
            "colorscale": [
             [
              0.0,
              "#0d0887"
             ],
             [
              0.1111111111111111,
              "#46039f"
             ],
             [
              0.2222222222222222,
              "#7201a8"
             ],
             [
              0.3333333333333333,
              "#9c179e"
             ],
             [
              0.4444444444444444,
              "#bd3786"
             ],
             [
              0.5555555555555556,
              "#d8576b"
             ],
             [
              0.6666666666666666,
              "#ed7953"
             ],
             [
              0.7777777777777778,
              "#fb9f3a"
             ],
             [
              0.8888888888888888,
              "#fdca26"
             ],
             [
              1.0,
              "#f0f921"
             ]
            ]
           }
          ],
          "surface": [
           {
            "type": "surface",
            "colorbar": {
             "outlinewidth": 0,
             "ticks": ""
            },
            "colorscale": [
             [
              0.0,
              "#0d0887"
             ],
             [
              0.1111111111111111,
              "#46039f"
             ],
             [
              0.2222222222222222,
              "#7201a8"
             ],
             [
              0.3333333333333333,
              "#9c179e"
             ],
             [
              0.4444444444444444,
              "#bd3786"
             ],
             [
              0.5555555555555556,
              "#d8576b"
             ],
             [
              0.6666666666666666,
              "#ed7953"
             ],
             [
              0.7777777777777778,
              "#fb9f3a"
             ],
             [
              0.8888888888888888,
              "#fdca26"
             ],
             [
              1.0,
              "#f0f921"
             ]
            ]
           }
          ],
          "mesh3d": [
           {
            "type": "mesh3d",
            "colorbar": {
             "outlinewidth": 0,
             "ticks": ""
            }
           }
          ],
          "scatter": [
           {
            "fillpattern": {
             "fillmode": "overlay",
             "size": 10,
             "solidity": 0.2
            },
            "type": "scatter"
           }
          ],
          "parcoords": [
           {
            "type": "parcoords",
            "line": {
             "colorbar": {
              "outlinewidth": 0,
              "ticks": ""
             }
            }
           }
          ],
          "scatterpolargl": [
           {
            "type": "scatterpolargl",
            "marker": {
             "colorbar": {
              "outlinewidth": 0,
              "ticks": ""
             }
            }
           }
          ],
          "bar": [
           {
            "error_x": {
             "color": "#2a3f5f"
            },
            "error_y": {
             "color": "#2a3f5f"
            },
            "marker": {
             "line": {
              "color": "#E5ECF6",
              "width": 0.5
             },
             "pattern": {
              "fillmode": "overlay",
              "size": 10,
              "solidity": 0.2
             }
            },
            "type": "bar"
           }
          ],
          "scattergeo": [
           {
            "type": "scattergeo",
            "marker": {
             "colorbar": {
              "outlinewidth": 0,
              "ticks": ""
             }
            }
           }
          ],
          "scatterpolar": [
           {
            "type": "scatterpolar",
            "marker": {
             "colorbar": {
              "outlinewidth": 0,
              "ticks": ""
             }
            }
           }
          ],
          "histogram": [
           {
            "marker": {
             "pattern": {
              "fillmode": "overlay",
              "size": 10,
              "solidity": 0.2
             }
            },
            "type": "histogram"
           }
          ],
          "scattergl": [
           {
            "type": "scattergl",
            "marker": {
             "colorbar": {
              "outlinewidth": 0,
              "ticks": ""
             }
            }
           }
          ],
          "scatter3d": [
           {
            "type": "scatter3d",
            "line": {
             "colorbar": {
              "outlinewidth": 0,
              "ticks": ""
             }
            },
            "marker": {
             "colorbar": {
              "outlinewidth": 0,
              "ticks": ""
             }
            }
           }
          ],
          "scattermapbox": [
           {
            "type": "scattermapbox",
            "marker": {
             "colorbar": {
              "outlinewidth": 0,
              "ticks": ""
             }
            }
           }
          ],
          "scatterternary": [
           {
            "type": "scatterternary",
            "marker": {
             "colorbar": {
              "outlinewidth": 0,
              "ticks": ""
             }
            }
           }
          ],
          "scattercarpet": [
           {
            "type": "scattercarpet",
            "marker": {
             "colorbar": {
              "outlinewidth": 0,
              "ticks": ""
             }
            }
           }
          ],
          "carpet": [
           {
            "aaxis": {
             "endlinecolor": "#2a3f5f",
             "gridcolor": "white",
             "linecolor": "white",
             "minorgridcolor": "white",
             "startlinecolor": "#2a3f5f"
            },
            "baxis": {
             "endlinecolor": "#2a3f5f",
             "gridcolor": "white",
             "linecolor": "white",
             "minorgridcolor": "white",
             "startlinecolor": "#2a3f5f"
            },
            "type": "carpet"
           }
          ],
          "table": [
           {
            "cells": {
             "fill": {
              "color": "#EBF0F8"
             },
             "line": {
              "color": "white"
             }
            },
            "header": {
             "fill": {
              "color": "#C8D4E3"
             },
             "line": {
              "color": "white"
             }
            },
            "type": "table"
           }
          ],
          "barpolar": [
           {
            "marker": {
             "line": {
              "color": "#E5ECF6",
              "width": 0.5
             },
             "pattern": {
              "fillmode": "overlay",
              "size": 10,
              "solidity": 0.2
             }
            },
            "type": "barpolar"
           }
          ],
          "pie": [
           {
            "automargin": true,
            "type": "pie"
           }
          ]
         },
         "layout": {
          "autotypenumbers": "strict",
          "colorway": [
           "#636efa",
           "#EF553B",
           "#00cc96",
           "#ab63fa",
           "#FFA15A",
           "#19d3f3",
           "#FF6692",
           "#B6E880",
           "#FF97FF",
           "#FECB52"
          ],
          "font": {
           "color": "#2a3f5f"
          },
          "hovermode": "closest",
          "hoverlabel": {
           "align": "left"
          },
          "paper_bgcolor": "white",
          "plot_bgcolor": "#E5ECF6",
          "polar": {
           "bgcolor": "#E5ECF6",
           "angularaxis": {
            "gridcolor": "white",
            "linecolor": "white",
            "ticks": ""
           },
           "radialaxis": {
            "gridcolor": "white",
            "linecolor": "white",
            "ticks": ""
           }
          },
          "ternary": {
           "bgcolor": "#E5ECF6",
           "aaxis": {
            "gridcolor": "white",
            "linecolor": "white",
            "ticks": ""
           },
           "baxis": {
            "gridcolor": "white",
            "linecolor": "white",
            "ticks": ""
           },
           "caxis": {
            "gridcolor": "white",
            "linecolor": "white",
            "ticks": ""
           }
          },
          "coloraxis": {
           "colorbar": {
            "outlinewidth": 0,
            "ticks": ""
           }
          },
          "colorscale": {
           "sequential": [
            [
             0.0,
             "#0d0887"
            ],
            [
             0.1111111111111111,
             "#46039f"
            ],
            [
             0.2222222222222222,
             "#7201a8"
            ],
            [
             0.3333333333333333,
             "#9c179e"
            ],
            [
             0.4444444444444444,
             "#bd3786"
            ],
            [
             0.5555555555555556,
             "#d8576b"
            ],
            [
             0.6666666666666666,
             "#ed7953"
            ],
            [
             0.7777777777777778,
             "#fb9f3a"
            ],
            [
             0.8888888888888888,
             "#fdca26"
            ],
            [
             1.0,
             "#f0f921"
            ]
           ],
           "sequentialminus": [
            [
             0.0,
             "#0d0887"
            ],
            [
             0.1111111111111111,
             "#46039f"
            ],
            [
             0.2222222222222222,
             "#7201a8"
            ],
            [
             0.3333333333333333,
             "#9c179e"
            ],
            [
             0.4444444444444444,
             "#bd3786"
            ],
            [
             0.5555555555555556,
             "#d8576b"
            ],
            [
             0.6666666666666666,
             "#ed7953"
            ],
            [
             0.7777777777777778,
             "#fb9f3a"
            ],
            [
             0.8888888888888888,
             "#fdca26"
            ],
            [
             1.0,
             "#f0f921"
            ]
           ],
           "diverging": [
            [
             0,
             "#8e0152"
            ],
            [
             0.1,
             "#c51b7d"
            ],
            [
             0.2,
             "#de77ae"
            ],
            [
             0.3,
             "#f1b6da"
            ],
            [
             0.4,
             "#fde0ef"
            ],
            [
             0.5,
             "#f7f7f7"
            ],
            [
             0.6,
             "#e6f5d0"
            ],
            [
             0.7,
             "#b8e186"
            ],
            [
             0.8,
             "#7fbc41"
            ],
            [
             0.9,
             "#4d9221"
            ],
            [
             1,
             "#276419"
            ]
           ]
          },
          "xaxis": {
           "gridcolor": "white",
           "linecolor": "white",
           "ticks": "",
           "title": {
            "standoff": 15
           },
           "zerolinecolor": "white",
           "automargin": true,
           "zerolinewidth": 2
          },
          "yaxis": {
           "gridcolor": "white",
           "linecolor": "white",
           "ticks": "",
           "title": {
            "standoff": 15
           },
           "zerolinecolor": "white",
           "automargin": true,
           "zerolinewidth": 2
          },
          "scene": {
           "xaxis": {
            "backgroundcolor": "#E5ECF6",
            "gridcolor": "white",
            "linecolor": "white",
            "showbackground": true,
            "ticks": "",
            "zerolinecolor": "white",
            "gridwidth": 2
           },
           "yaxis": {
            "backgroundcolor": "#E5ECF6",
            "gridcolor": "white",
            "linecolor": "white",
            "showbackground": true,
            "ticks": "",
            "zerolinecolor": "white",
            "gridwidth": 2
           },
           "zaxis": {
            "backgroundcolor": "#E5ECF6",
            "gridcolor": "white",
            "linecolor": "white",
            "showbackground": true,
            "ticks": "",
            "zerolinecolor": "white",
            "gridwidth": 2
           }
          },
          "shapedefaults": {
           "line": {
            "color": "#2a3f5f"
           }
          },
          "annotationdefaults": {
           "arrowcolor": "#2a3f5f",
           "arrowhead": 0,
           "arrowwidth": 1
          },
          "geo": {
           "bgcolor": "white",
           "landcolor": "#E5ECF6",
           "subunitcolor": "white",
           "showland": true,
           "showlakes": true,
           "lakecolor": "white"
          },
          "title": {
           "x": 0.05
          },
          "mapbox": {
           "style": "light"
          }
         }
        },
        "scene": {
         "domain": {
          "x": [
           0.0,
           1.0
          ],
          "y": [
           0.0,
           1.0
          ]
         },
         "xaxis": {
          "title": {
           "text": "PC1"
          },
          "showticklabels": false
         },
         "yaxis": {
          "title": {
           "text": "PC2"
          },
          "showticklabels": false
         },
         "zaxis": {
          "title": {
           "text": "PC3"
          },
          "showticklabels": false
         }
        },
        "legend": {
         "title": {
          "text": "label"
         },
         "tracegroupgap": 0
        },
        "title": {
         "text": "Canny TSNE DMMP Granularity=(20, 20) Sperplexity=5"
        }
       },
       "config": {
        "plotlyServerURL": "https://plot.ly"
       }
      },
      "text/html": [
       "<div>                            <div id=\"e1f7454c-c23c-40f0-bafa-a57a96f175e9\" class=\"plotly-graph-div\" style=\"height:525px; width:100%;\"></div>            <script type=\"text/javascript\">                require([\"plotly\"], function(Plotly) {                    window.PLOTLYENV=window.PLOTLYENV || {};                                    if (document.getElementById(\"e1f7454c-c23c-40f0-bafa-a57a96f175e9\")) {                    Plotly.newPlot(                        \"e1f7454c-c23c-40f0-bafa-a57a96f175e9\",                        [{\"hovertemplate\":\"label=NaBF4<br>PC1=%{x}<br>PC2=%{y}<br>PC3=%{z}<extra></extra>\",\"legendgroup\":\"NaBF4\",\"marker\":{\"color\":\"green\",\"symbol\":\"circle\"},\"mode\":\"markers\",\"name\":\"NaBF4\",\"scene\":\"scene\",\"showlegend\":true,\"x\":[-2.151517629623413,-120.97621154785156,-96.30707550048828],\"y\":[35.38335418701172,25.119915008544922,-138.87294006347656],\"z\":[281.5091857910156,94.50000762939453,-4.450338840484619],\"type\":\"scatter3d\"},{\"hovertemplate\":\"label=DMMP<br>PC1=%{x}<br>PC2=%{y}<br>PC3=%{z}<extra></extra>\",\"legendgroup\":\"DMMP\",\"marker\":{\"color\":\"red\",\"symbol\":\"circle\"},\"mode\":\"markers\",\"name\":\"DMMP\",\"scene\":\"scene\",\"showlegend\":true,\"x\":[70.19159698486328,75.9410400390625,-16.414705276489258,135.67648315429688],\"y\":[-235.09085083007812,-95.57549285888672,272.7272644042969,63.067447662353516],\"z\":[23.399085998535156,-61.38201904296875,60.976497650146484,16.388229370117188],\"type\":\"scatter3d\"},{\"hovertemplate\":\"label=KF6P<br>PC1=%{x}<br>PC2=%{y}<br>PC3=%{z}<extra></extra>\",\"legendgroup\":\"KF6P\",\"marker\":{\"color\":\"blue\",\"symbol\":\"circle\"},\"mode\":\"markers\",\"name\":\"KF6P\",\"scene\":\"scene\",\"showlegend\":true,\"x\":[-57.011009216308594,-40.09093475341797,-30.58229637145996],\"y\":[-110.33039855957031,124.61951446533203,-3.228699207305908],\"z\":[-220.30032348632812,-45.31399154663086,-87.39163208007812],\"type\":\"scatter3d\"}],                        {\"template\":{\"data\":{\"histogram2dcontour\":[{\"type\":\"histogram2dcontour\",\"colorbar\":{\"outlinewidth\":0,\"ticks\":\"\"},\"colorscale\":[[0.0,\"#0d0887\"],[0.1111111111111111,\"#46039f\"],[0.2222222222222222,\"#7201a8\"],[0.3333333333333333,\"#9c179e\"],[0.4444444444444444,\"#bd3786\"],[0.5555555555555556,\"#d8576b\"],[0.6666666666666666,\"#ed7953\"],[0.7777777777777778,\"#fb9f3a\"],[0.8888888888888888,\"#fdca26\"],[1.0,\"#f0f921\"]]}],\"choropleth\":[{\"type\":\"choropleth\",\"colorbar\":{\"outlinewidth\":0,\"ticks\":\"\"}}],\"histogram2d\":[{\"type\":\"histogram2d\",\"colorbar\":{\"outlinewidth\":0,\"ticks\":\"\"},\"colorscale\":[[0.0,\"#0d0887\"],[0.1111111111111111,\"#46039f\"],[0.2222222222222222,\"#7201a8\"],[0.3333333333333333,\"#9c179e\"],[0.4444444444444444,\"#bd3786\"],[0.5555555555555556,\"#d8576b\"],[0.6666666666666666,\"#ed7953\"],[0.7777777777777778,\"#fb9f3a\"],[0.8888888888888888,\"#fdca26\"],[1.0,\"#f0f921\"]]}],\"heatmap\":[{\"type\":\"heatmap\",\"colorbar\":{\"outlinewidth\":0,\"ticks\":\"\"},\"colorscale\":[[0.0,\"#0d0887\"],[0.1111111111111111,\"#46039f\"],[0.2222222222222222,\"#7201a8\"],[0.3333333333333333,\"#9c179e\"],[0.4444444444444444,\"#bd3786\"],[0.5555555555555556,\"#d8576b\"],[0.6666666666666666,\"#ed7953\"],[0.7777777777777778,\"#fb9f3a\"],[0.8888888888888888,\"#fdca26\"],[1.0,\"#f0f921\"]]}],\"heatmapgl\":[{\"type\":\"heatmapgl\",\"colorbar\":{\"outlinewidth\":0,\"ticks\":\"\"},\"colorscale\":[[0.0,\"#0d0887\"],[0.1111111111111111,\"#46039f\"],[0.2222222222222222,\"#7201a8\"],[0.3333333333333333,\"#9c179e\"],[0.4444444444444444,\"#bd3786\"],[0.5555555555555556,\"#d8576b\"],[0.6666666666666666,\"#ed7953\"],[0.7777777777777778,\"#fb9f3a\"],[0.8888888888888888,\"#fdca26\"],[1.0,\"#f0f921\"]]}],\"contourcarpet\":[{\"type\":\"contourcarpet\",\"colorbar\":{\"outlinewidth\":0,\"ticks\":\"\"}}],\"contour\":[{\"type\":\"contour\",\"colorbar\":{\"outlinewidth\":0,\"ticks\":\"\"},\"colorscale\":[[0.0,\"#0d0887\"],[0.1111111111111111,\"#46039f\"],[0.2222222222222222,\"#7201a8\"],[0.3333333333333333,\"#9c179e\"],[0.4444444444444444,\"#bd3786\"],[0.5555555555555556,\"#d8576b\"],[0.6666666666666666,\"#ed7953\"],[0.7777777777777778,\"#fb9f3a\"],[0.8888888888888888,\"#fdca26\"],[1.0,\"#f0f921\"]]}],\"surface\":[{\"type\":\"surface\",\"colorbar\":{\"outlinewidth\":0,\"ticks\":\"\"},\"colorscale\":[[0.0,\"#0d0887\"],[0.1111111111111111,\"#46039f\"],[0.2222222222222222,\"#7201a8\"],[0.3333333333333333,\"#9c179e\"],[0.4444444444444444,\"#bd3786\"],[0.5555555555555556,\"#d8576b\"],[0.6666666666666666,\"#ed7953\"],[0.7777777777777778,\"#fb9f3a\"],[0.8888888888888888,\"#fdca26\"],[1.0,\"#f0f921\"]]}],\"mesh3d\":[{\"type\":\"mesh3d\",\"colorbar\":{\"outlinewidth\":0,\"ticks\":\"\"}}],\"scatter\":[{\"fillpattern\":{\"fillmode\":\"overlay\",\"size\":10,\"solidity\":0.2},\"type\":\"scatter\"}],\"parcoords\":[{\"type\":\"parcoords\",\"line\":{\"colorbar\":{\"outlinewidth\":0,\"ticks\":\"\"}}}],\"scatterpolargl\":[{\"type\":\"scatterpolargl\",\"marker\":{\"colorbar\":{\"outlinewidth\":0,\"ticks\":\"\"}}}],\"bar\":[{\"error_x\":{\"color\":\"#2a3f5f\"},\"error_y\":{\"color\":\"#2a3f5f\"},\"marker\":{\"line\":{\"color\":\"#E5ECF6\",\"width\":0.5},\"pattern\":{\"fillmode\":\"overlay\",\"size\":10,\"solidity\":0.2}},\"type\":\"bar\"}],\"scattergeo\":[{\"type\":\"scattergeo\",\"marker\":{\"colorbar\":{\"outlinewidth\":0,\"ticks\":\"\"}}}],\"scatterpolar\":[{\"type\":\"scatterpolar\",\"marker\":{\"colorbar\":{\"outlinewidth\":0,\"ticks\":\"\"}}}],\"histogram\":[{\"marker\":{\"pattern\":{\"fillmode\":\"overlay\",\"size\":10,\"solidity\":0.2}},\"type\":\"histogram\"}],\"scattergl\":[{\"type\":\"scattergl\",\"marker\":{\"colorbar\":{\"outlinewidth\":0,\"ticks\":\"\"}}}],\"scatter3d\":[{\"type\":\"scatter3d\",\"line\":{\"colorbar\":{\"outlinewidth\":0,\"ticks\":\"\"}},\"marker\":{\"colorbar\":{\"outlinewidth\":0,\"ticks\":\"\"}}}],\"scattermapbox\":[{\"type\":\"scattermapbox\",\"marker\":{\"colorbar\":{\"outlinewidth\":0,\"ticks\":\"\"}}}],\"scatterternary\":[{\"type\":\"scatterternary\",\"marker\":{\"colorbar\":{\"outlinewidth\":0,\"ticks\":\"\"}}}],\"scattercarpet\":[{\"type\":\"scattercarpet\",\"marker\":{\"colorbar\":{\"outlinewidth\":0,\"ticks\":\"\"}}}],\"carpet\":[{\"aaxis\":{\"endlinecolor\":\"#2a3f5f\",\"gridcolor\":\"white\",\"linecolor\":\"white\",\"minorgridcolor\":\"white\",\"startlinecolor\":\"#2a3f5f\"},\"baxis\":{\"endlinecolor\":\"#2a3f5f\",\"gridcolor\":\"white\",\"linecolor\":\"white\",\"minorgridcolor\":\"white\",\"startlinecolor\":\"#2a3f5f\"},\"type\":\"carpet\"}],\"table\":[{\"cells\":{\"fill\":{\"color\":\"#EBF0F8\"},\"line\":{\"color\":\"white\"}},\"header\":{\"fill\":{\"color\":\"#C8D4E3\"},\"line\":{\"color\":\"white\"}},\"type\":\"table\"}],\"barpolar\":[{\"marker\":{\"line\":{\"color\":\"#E5ECF6\",\"width\":0.5},\"pattern\":{\"fillmode\":\"overlay\",\"size\":10,\"solidity\":0.2}},\"type\":\"barpolar\"}],\"pie\":[{\"automargin\":true,\"type\":\"pie\"}]},\"layout\":{\"autotypenumbers\":\"strict\",\"colorway\":[\"#636efa\",\"#EF553B\",\"#00cc96\",\"#ab63fa\",\"#FFA15A\",\"#19d3f3\",\"#FF6692\",\"#B6E880\",\"#FF97FF\",\"#FECB52\"],\"font\":{\"color\":\"#2a3f5f\"},\"hovermode\":\"closest\",\"hoverlabel\":{\"align\":\"left\"},\"paper_bgcolor\":\"white\",\"plot_bgcolor\":\"#E5ECF6\",\"polar\":{\"bgcolor\":\"#E5ECF6\",\"angularaxis\":{\"gridcolor\":\"white\",\"linecolor\":\"white\",\"ticks\":\"\"},\"radialaxis\":{\"gridcolor\":\"white\",\"linecolor\":\"white\",\"ticks\":\"\"}},\"ternary\":{\"bgcolor\":\"#E5ECF6\",\"aaxis\":{\"gridcolor\":\"white\",\"linecolor\":\"white\",\"ticks\":\"\"},\"baxis\":{\"gridcolor\":\"white\",\"linecolor\":\"white\",\"ticks\":\"\"},\"caxis\":{\"gridcolor\":\"white\",\"linecolor\":\"white\",\"ticks\":\"\"}},\"coloraxis\":{\"colorbar\":{\"outlinewidth\":0,\"ticks\":\"\"}},\"colorscale\":{\"sequential\":[[0.0,\"#0d0887\"],[0.1111111111111111,\"#46039f\"],[0.2222222222222222,\"#7201a8\"],[0.3333333333333333,\"#9c179e\"],[0.4444444444444444,\"#bd3786\"],[0.5555555555555556,\"#d8576b\"],[0.6666666666666666,\"#ed7953\"],[0.7777777777777778,\"#fb9f3a\"],[0.8888888888888888,\"#fdca26\"],[1.0,\"#f0f921\"]],\"sequentialminus\":[[0.0,\"#0d0887\"],[0.1111111111111111,\"#46039f\"],[0.2222222222222222,\"#7201a8\"],[0.3333333333333333,\"#9c179e\"],[0.4444444444444444,\"#bd3786\"],[0.5555555555555556,\"#d8576b\"],[0.6666666666666666,\"#ed7953\"],[0.7777777777777778,\"#fb9f3a\"],[0.8888888888888888,\"#fdca26\"],[1.0,\"#f0f921\"]],\"diverging\":[[0,\"#8e0152\"],[0.1,\"#c51b7d\"],[0.2,\"#de77ae\"],[0.3,\"#f1b6da\"],[0.4,\"#fde0ef\"],[0.5,\"#f7f7f7\"],[0.6,\"#e6f5d0\"],[0.7,\"#b8e186\"],[0.8,\"#7fbc41\"],[0.9,\"#4d9221\"],[1,\"#276419\"]]},\"xaxis\":{\"gridcolor\":\"white\",\"linecolor\":\"white\",\"ticks\":\"\",\"title\":{\"standoff\":15},\"zerolinecolor\":\"white\",\"automargin\":true,\"zerolinewidth\":2},\"yaxis\":{\"gridcolor\":\"white\",\"linecolor\":\"white\",\"ticks\":\"\",\"title\":{\"standoff\":15},\"zerolinecolor\":\"white\",\"automargin\":true,\"zerolinewidth\":2},\"scene\":{\"xaxis\":{\"backgroundcolor\":\"#E5ECF6\",\"gridcolor\":\"white\",\"linecolor\":\"white\",\"showbackground\":true,\"ticks\":\"\",\"zerolinecolor\":\"white\",\"gridwidth\":2},\"yaxis\":{\"backgroundcolor\":\"#E5ECF6\",\"gridcolor\":\"white\",\"linecolor\":\"white\",\"showbackground\":true,\"ticks\":\"\",\"zerolinecolor\":\"white\",\"gridwidth\":2},\"zaxis\":{\"backgroundcolor\":\"#E5ECF6\",\"gridcolor\":\"white\",\"linecolor\":\"white\",\"showbackground\":true,\"ticks\":\"\",\"zerolinecolor\":\"white\",\"gridwidth\":2}},\"shapedefaults\":{\"line\":{\"color\":\"#2a3f5f\"}},\"annotationdefaults\":{\"arrowcolor\":\"#2a3f5f\",\"arrowhead\":0,\"arrowwidth\":1},\"geo\":{\"bgcolor\":\"white\",\"landcolor\":\"#E5ECF6\",\"subunitcolor\":\"white\",\"showland\":true,\"showlakes\":true,\"lakecolor\":\"white\"},\"title\":{\"x\":0.05},\"mapbox\":{\"style\":\"light\"}}},\"scene\":{\"domain\":{\"x\":[0.0,1.0],\"y\":[0.0,1.0]},\"xaxis\":{\"title\":{\"text\":\"PC1\"},\"showticklabels\":false},\"yaxis\":{\"title\":{\"text\":\"PC2\"},\"showticklabels\":false},\"zaxis\":{\"title\":{\"text\":\"PC3\"},\"showticklabels\":false}},\"legend\":{\"title\":{\"text\":\"label\"},\"tracegroupgap\":0},\"title\":{\"text\":\"Canny TSNE DMMP Granularity=(20, 20) Sperplexity=5\"}},                        {\"responsive\": true}                    ).then(function(){\n",
       "                            \n",
       "var gd = document.getElementById('e1f7454c-c23c-40f0-bafa-a57a96f175e9');\n",
       "var x = new MutationObserver(function (mutations, observer) {{\n",
       "        var display = window.getComputedStyle(gd).display;\n",
       "        if (!display || display === 'none') {{\n",
       "            console.log([gd, 'removed!']);\n",
       "            Plotly.purge(gd);\n",
       "            observer.disconnect();\n",
       "        }}\n",
       "}});\n",
       "\n",
       "// Listen for the removal of the full notebook cells\n",
       "var notebookContainer = gd.closest('#notebook-container');\n",
       "if (notebookContainer) {{\n",
       "    x.observe(notebookContainer, {childList: true});\n",
       "}}\n",
       "\n",
       "// Listen for the clearing of the current output cell\n",
       "var outputEl = gd.closest('.output');\n",
       "if (outputEl) {{\n",
       "    x.observe(outputEl, {childList: true});\n",
       "}}\n",
       "\n",
       "                        })                };                });            </script>        </div>"
      ]
     },
     "metadata": {},
     "output_type": "display_data"
    }
   ],
   "execution_count": 139
  },
  {
   "cell_type": "markdown",
   "metadata": {},
   "source": [
    "Final Model"
   ]
  },
  {
   "cell_type": "code",
   "metadata": {
    "ExecuteTime": {
     "end_time": "2024-08-15T22:00:19.964900Z",
     "start_time": "2024-08-15T22:00:19.941386Z"
    }
   },
   "source": [
    "from sklearn.preprocessing import StandardScaler\n",
    "from sklearn.neighbors import KNeighborsClassifier\n",
    "from sklearn.pipeline import Pipeline\n",
    "from sklearn.decomposition import PCA\n",
    "from sklearn.svm import SVC\n",
    "from sklearn.metrics import classification_report, accuracy_score\n",
    "\n",
    "estimators = [('std', StandardScaler()), ('reduce_dim', PCA(n_components=3, svd_solver='full')), ('clf', SVC())]\n",
    "pipe = Pipeline(estimators)\n",
    "pipe.fit(x_train, y_train)\n",
    "print(pipe.score(x_test, y_test))\n",
    "print(classification_report(y_test, pipe.predict(x_test)))"
   ],
   "outputs": [
    {
     "ename": "NameError",
     "evalue": "name 'x_train' is not defined",
     "output_type": "error",
     "traceback": [
      "\u001B[1;31m---------------------------------------------------------------------------\u001B[0m",
      "\u001B[1;31mNameError\u001B[0m                                 Traceback (most recent call last)",
      "Cell \u001B[1;32mIn[140], line 10\u001B[0m\n\u001B[0;32m      8\u001B[0m estimators \u001B[38;5;241m=\u001B[39m [(\u001B[38;5;124m'\u001B[39m\u001B[38;5;124mstd\u001B[39m\u001B[38;5;124m'\u001B[39m, StandardScaler()), (\u001B[38;5;124m'\u001B[39m\u001B[38;5;124mreduce_dim\u001B[39m\u001B[38;5;124m'\u001B[39m, PCA(n_components\u001B[38;5;241m=\u001B[39m\u001B[38;5;241m3\u001B[39m, svd_solver\u001B[38;5;241m=\u001B[39m\u001B[38;5;124m'\u001B[39m\u001B[38;5;124mfull\u001B[39m\u001B[38;5;124m'\u001B[39m)), (\u001B[38;5;124m'\u001B[39m\u001B[38;5;124mclf\u001B[39m\u001B[38;5;124m'\u001B[39m, SVC())]\n\u001B[0;32m      9\u001B[0m pipe \u001B[38;5;241m=\u001B[39m Pipeline(estimators)\n\u001B[1;32m---> 10\u001B[0m pipe\u001B[38;5;241m.\u001B[39mfit(\u001B[43mx_train\u001B[49m, y_train)\n\u001B[0;32m     11\u001B[0m \u001B[38;5;28mprint\u001B[39m(pipe\u001B[38;5;241m.\u001B[39mscore(x_test, y_test))\n\u001B[0;32m     12\u001B[0m \u001B[38;5;28mprint\u001B[39m(classification_report(y_test, pipe\u001B[38;5;241m.\u001B[39mpredict(x_test)))\n",
      "\u001B[1;31mNameError\u001B[0m: name 'x_train' is not defined"
     ]
    }
   ],
   "execution_count": 140
  },
  {
   "cell_type": "code",
   "execution_count": null,
   "metadata": {},
   "outputs": [],
   "source": [
    "estimators = [('std', StandardScaler()), ('reduce_dim', PCA(n_components=4, svd_solver='full')), ('clf', KNeighborsClassifier(1))]\n",
    "pipe = Pipeline(estimators)\n",
    "pipe.fit(x_train, y_train)\n",
    "print(pipe.score(x_test, y_test))\n",
    "print(classification_report(y_test, pipe.predict(x_test)))"
   ]
  },
  {
   "cell_type": "code",
   "execution_count": null,
   "metadata": {},
   "outputs": [],
   "source": [
    "best = (0, 0)\n",
    "for i in range(1, 10):\n",
    "    estimators = [('std', StandardScaler()), ('reduce_dim', PCA(n_components=i, svd_solver='full')), ('clf', KNeighborsClassifier(1))]\n",
    "    pipe = Pipeline(estimators)\n",
    "    pipe.fit(x_train, y_train)\n",
    "    score = pipe.score(x_test, y_test)\n",
    "    if score > best[1]:\n",
    "        best = (i, score)\n",
    "print(best)"
   ]
  },
  {
   "cell_type": "code",
   "execution_count": null,
   "metadata": {},
   "outputs": [],
   "source": [
    "best = (0, 0)\n",
    "for i in range(1, 10):\n",
    "    estimators = [('std', StandardScaler()), ('reduce_dim', PCA(n_components=i, svd_solver='full')), ('clf', SVC())]\n",
    "    pipe = Pipeline(estimators)\n",
    "    pipe.fit(x_train, y_train)\n",
    "    score = pipe.score(x_test, y_test)\n",
    "    if score > best[1]:\n",
    "        best = (i, score)\n",
    "\n",
    "print(best)"
   ]
  },
  {
   "cell_type": "code",
   "execution_count": null,
   "metadata": {},
   "outputs": [],
   "source": [
    "from matplotlib import cm\n",
    "# Wrong classification visualization\n",
    "import matplotlib.image as mpimg\n",
    "\n",
    "predict_result = pipe.predict(x_test)\n",
    "wrong_classification = []\n",
    "wrong_classification_label = []\n",
    "for i in range(len(predict_result)):\n",
    "    if predict_result[i] != y_test[i]:\n",
    "        wrong_classification.append(i)\n",
    "        wrong_classification_label.append(y_test[i])\n",
    "print(wrong_classification_label)\n",
    "for i, path in enumerate(data_dir.glob('*.jpg')):\n",
    "    if i in wrong_classification:\n",
    "        img = cv2.imread(str(path))\n",
    "        label = wrong_classification_label[wrong_classification.index(i)]\n",
    "        # cv2.imshow(label, img)\n",
    "        # cv2.waitKey(0)\n",
    "        # cv2.destroyAllWindows()"
   ]
  },
  {
   "cell_type": "code",
   "execution_count": null,
   "metadata": {},
   "outputs": [],
   "source": [
    "# Reverse pattern with PCA\n",
    "pca = PCA(n_components=3, svd_solver='full')\n",
    "pca.fit(x_train)\n",
    "\n",
    "guess_data = np.array([-4400, 5200, 120])\n",
    "data_original = np.dot(guess_data, pca.components_)  # inverse_transform\n",
    "data_original = np.reshape(data_original, (500, 500))"
   ]
  },
  {
   "cell_type": "code",
   "execution_count": null,
   "metadata": {},
   "outputs": [],
   "source": [
    "plt.imshow(data_original, cmap='gray')"
   ]
  }
 ],
 "metadata": {
  "kernelspec": {
   "display_name": "Python 3 (ipykernel)",
   "language": "python",
   "name": "python3"
  },
  "language_info": {
   "codemirror_mode": {
    "name": "ipython",
    "version": 2
   },
   "file_extension": ".py",
   "mimetype": "text/x-python",
   "name": "python",
   "nbconvert_exporter": "python",
   "pygments_lexer": "ipython2",
   "version": "2.7.6"
  }
 },
 "nbformat": 4,
 "nbformat_minor": 1
}
