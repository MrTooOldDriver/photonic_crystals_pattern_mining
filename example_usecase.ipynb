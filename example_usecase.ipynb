{
 "cells": [
  {
   "cell_type": "markdown",
   "metadata": {},
   "source": [
    "Example Use Case for IRCS_CANNY_TSNE"
   ]
  },
  {
   "cell_type": "code",
   "execution_count": null,
   "metadata": {},
   "outputs": [],
   "source": [
    "from photonic_crystals_pattern_mining import IRCS_CANNY_TSNE\n",
    "\n",
    "\n",
    "molecular_imprinting_name = 'DMMP'\n",
    "data_miner = IRCS_CANNY_TSNE.data_mining()\n",
    "data_visual = IRCS_CANNY_TSNE.data_visualization()\n",
    "\n",
    "x, y, resize_x = IRCS_CANNY_TSNE.image_preprocessing()\n",
    "df = data_miner.method_1(x, y)\n",
    "data_visual.method_1(df, molecular_imprinting_name, resize_x)"
   ]
  },
  {
   "cell_type": "markdown",
   "metadata": {},
   "source": [
    "Example Use Case for IRCS_HOG_TSNE"
   ]
  },
  {
   "cell_type": "code",
   "execution_count": null,
   "metadata": {},
   "outputs": [],
   "source": [
    "from photonic_crystals_pattern_mining import IRCS_HOG_TSNE\n",
    "from sklearn.model_selection import train_test_split\n",
    "\n",
    "molecular_imprinting_name = 'DMMP'\n",
    "data_miner = IRCS_HOG_TSNE.data_mining()\n",
    "data_visual = IRCS_HOG_TSNE.data_visualization()\n",
    "\n",
    "x, y = IRCS_HOG_TSNE.image_preprocessing()\n",
    "x_train, x_test, y_train, y_test = train_test_split(x, y, test_size=.3, stratify=y)\n",
    "resize_image, hog_image = data_miner.method_1()\n",
    "data_visual.method_1(x, y, resize_image, hog_image)\n",
    "df = data_miner.method_2(x, y, x_train, y_train)\n",
    "data_visual.method_2(df, molecular_imprinting_name)"
   ]
  },
  {
   "cell_type": "markdown",
   "metadata": {},
   "source": [
    "Example Use Case for IRCS_SIFT_PATTERN_ALIGNMENT"
   ]
  },
  {
   "cell_type": "code",
   "execution_count": null,
   "metadata": {},
   "outputs": [],
   "source": [
    "from photonic_crystals_pattern_mining import IRCS_SIFT_PATTERN_ALIGNMENT\n",
    "\n",
    "molecular_imprinting_name = 'DMMP'\n",
    "data_miner = IRCS_SIFT_PATTERN_ALIGNMENT.data_mining()\n",
    "data_visual = IRCS_SIFT_PATTERN_ALIGNMENT.data_visualization()\n",
    "\n",
    "x, y = IRCS_SIFT_PATTERN_ALIGNMENT.image_preprocessing()\n",
    "\n",
    "all_angles_classes, angle_bin, all_radii_classes, radii_bin, color_discrete_map = data_miner.method_1(x, y)\n",
    "data_visual.method_1(all_angles_classes, angle_bin, all_radii_classes, radii_bin, color_discrete_map, molecular_imprinting_name)\n",
    "\n",
    "all_angles_classes, angle_bin, color_discrete_map = data_miner.method_2(x, y)\n",
    "data_visual.method_2(all_angles_classes, angle_bin, color_discrete_map, molecular_imprinting_name)\n",
    "\n",
    "all_radii_classes, radii_bin, color_discrete_map = data_miner.method_3(x, y)\n",
    "data_visual.method_3(all_radii_classes, radii_bin, color_discrete_map, molecular_imprinting_name)\n",
    "\n",
    "all_radii_classes, radii_bin, color_discrete_map = data_miner.method_4(x, y)\n",
    "data_visual.method_4(all_angles_classes, angle_bin, color_discrete_map, molecular_imprinting_name)\n",
    "\n",
    "data_visual.method_5()\n",
    "\n",
    "data_visual.method_6()"
   ]
  },
  {
   "cell_type": "markdown",
   "metadata": {},
   "source": [
    "Example Use Case for IRCS_SIFT_PATTERN_DENSITY_MAP"
   ]
  },
  {
   "cell_type": "code",
   "execution_count": null,
   "metadata": {},
   "outputs": [],
   "source": [
    "from photonic_crystals_pattern_mining import IRCS_SIFT_PATTERN_DENSITY_MAP\n",
    "\n",
    "\n",
    "molecular_imprinting_name = 'MPA'\n",
    "data_miner = IRCS_SIFT_PATTERN_DENSITY_MAP.data_mining()\n",
    "data_visual = IRCS_SIFT_PATTERN_DENSITY_MAP.data_visualization()\n",
    "\n",
    "x, y = IRCS_SIFT_PATTERN_DENSITY_MAP.image_preprocessing()\n",
    "coordinates_color, coordinates_list = data_miner.method_1(x, y)\n",
    "data_visual.method_1(coordinates_list)\n",
    "data_visual.method_2(coordinates_color)\n",
    "\n",
    "x_flat, y_flat, hist_flat = data_miner.method_2(x)\n",
    "data_visual.method_3(x_flat, y_flat, hist_flat)\n",
    "\n",
    "data_visual.method_4(coordinates_color, molecular_imprinting_name)\n",
    "print(\"here\")\n",
    "data_visual.method_5()\n"
   ]
  },
  {
   "cell_type": "markdown",
   "metadata": {},
   "source": [
    "Example Use Case for IRCS_SIFT_PATTERN"
   ]
  },
  {
   "cell_type": "code",
   "execution_count": null,
   "metadata": {},
   "outputs": [],
   "source": [
    "from photonic_crystals_pattern_mining import IRCS_SIFT_PATTERN\n",
    "\n",
    "molecular_imprinting_name = 'MPA'\n",
    "data_miner = IRCS_SIFT_PATTERN.data_mining()\n",
    "data_visual = IRCS_SIFT_PATTERN.data_visualization()\n",
    "\n",
    "x, y = IRCS_SIFT_PATTERN.image_preprocessing()\n",
    "color_discrete_map, all_angles_classes, all_radii_classes = data_miner.method_1(x, y)\n",
    "data_visual.method_1(x, y)\n",
    "data_visual.method_2(all_angles_classes, color_discrete_map, molecular_imprinting_name)\n",
    "data_visual.method_3(all_radii_classes, color_discrete_map, molecular_imprinting_name)\n",
    "\n",
    "data_visual.method_4(all_angles_classes, color_discrete_map, molecular_imprinting_name)\n",
    "data_visual.method_5(all_radii_classes, color_discrete_map, molecular_imprinting_name)"
   ]
  },
  {
   "cell_type": "markdown",
   "metadata": {},
   "source": [
    "Example Use Case for IRCS_SIFT_TSNE"
   ]
  },
  {
   "cell_type": "code",
   "execution_count": null,
   "metadata": {},
   "outputs": [],
   "source": [
    "from photonic_crystals_pattern_mining import IRCS_SIFT_TSNE\n",
    "\n",
    "molecular_imprinting_name = 'MP'\n",
    "data_miner = IRCS_SIFT_TSNE.data_mining()\n",
    "data_visual = IRCS_SIFT_TSNE.data_visualization()\n",
    "\n",
    "x, y = IRCS_SIFT_TSNE.image_preprocessing()\n",
    "df = data_miner.method_1(x, y)\n",
    "data_visual.method_1(df, molecular_imprinting_name)"
   ]
  },
  {
   "cell_type": "markdown",
   "metadata": {},
   "source": [
    "Example Use Case for IRCS_cv_locator"
   ]
  },
  {
   "cell_type": "code",
   "execution_count": null,
   "metadata": {},
   "outputs": [],
   "source": [
    "# TODO"
   ]
  },
  {
   "cell_type": "markdown",
   "metadata": {},
   "source": [
    "Example Use Case for IRCS_cv_locator_new_data"
   ]
  },
  {
   "cell_type": "code",
   "execution_count": null,
   "metadata": {},
   "outputs": [],
   "source": [
    "# TODO"
   ]
  },
  {
   "cell_type": "markdown",
   "metadata": {},
   "source": [
    "Example Use Case for IRCS_cv_locator_new_data_temporal"
   ]
  },
  {
   "cell_type": "code",
   "execution_count": null,
   "metadata": {},
   "outputs": [],
   "source": [
    "# TODO"
   ]
  }
 ],
 "metadata": {
  "kernelspec": {
   "display_name": "photonic_crystals_pattern_mining",
   "language": "python",
   "name": "python3"
  },
  "language_info": {
   "codemirror_mode": {
    "name": "ipython",
    "version": 3
   },
   "file_extension": ".py",
   "mimetype": "text/x-python",
   "name": "python",
   "nbconvert_exporter": "python",
   "pygments_lexer": "ipython3",
   "version": "3.8.20"
  }
 },
 "nbformat": 4,
 "nbformat_minor": 2
}
